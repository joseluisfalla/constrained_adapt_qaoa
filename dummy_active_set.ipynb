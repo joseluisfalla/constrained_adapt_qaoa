{
 "cells": [
  {
   "cell_type": "code",
   "execution_count": 1,
   "id": "2ad63fb5-2dee-47b1-a42a-0b0f7ed7c47f",
   "metadata": {},
   "outputs": [],
   "source": [
    "import numpy as np\n",
    "from scipy.linalg import solve"
   ]
  },
  {
   "cell_type": "code",
   "execution_count": 2,
   "id": "30842d8c-bc04-4061-a0d4-c2d6a19a2f96",
   "metadata": {},
   "outputs": [],
   "source": [
    "def active_set_algorithm(Q, c, A, b, x0, tol=1e-6, max_iter=100):\n",
    "\n",
    "    x = x0\n",
    "    m, n = A.shape\n",
    "    active_set = []\n",
    "\n",
    "    for i in range(max_iter):\n",
    "        # Check for violated constraints\n",
    "        residuals = A @ x - b\n",
    "        violated = np.where(residuals > tol)[0]\n",
    "        # Compute gradient\n",
    "        grad = Q @ x + c\n",
    "\n",
    "        if len(violated) == 0:\n",
    "            # If there are no violated constraints, check optimality conditions\n",
    "            if len(active_set) == 0:\n",
    "                p = -solve(Q, grad)\n",
    "            else:\n",
    "                A_eq = A[active_set]\n",
    "                try:\n",
    "                    W = np.block([[Q, A_eq.T], [A_eq, np.zeros((len(active_set), len(active_set)))]])\n",
    "                    rhs = np.block([-grad, np.zeros(len(active_set))])\n",
    "                    sol = solve(W, rhs)\n",
    "                    p = sol[:n]\n",
    "                    lag_mul = sol[n:]\n",
    "                except np.linalg.LinAlgError:\n",
    "                    p = np.zeros_like(x)\n",
    "\n",
    "            # Check for optimality (Lagrange multipliers)\n",
    "                if np.all(lag_mul >= -tol):\n",
    "                    print(f'Converged in {i} iterations.')\n",
    "                    return x\n",
    "\n",
    "        if np.linalg.norm(p) < tol:\n",
    "            # Check if Lagrange multipliers are non-negative\n",
    "            if len(active_set) == 0 or np.all(lag_mul >= -tol):\n",
    "                print(f'Converged in {i} iterations.')\n",
    "                return x\n",
    "            min_lag_mul_idx = np.argmin(lag_mul)\n",
    "            active_set.pop(min_lag_mul_idx)\n",
    "        else:\n",
    "            # Take a step along p\n",
    "            alpha = 1.0\n",
    "            active_set_candidate = None\n",
    "            for j in range(m):\n",
    "                if j not in active_set:\n",
    "                    Aj_p = A[j] @ p\n",
    "                    if Aj_p < 0:\n",
    "                        # Calculate the step size alpha that would violate this constraint\n",
    "                        alpha_j = -(A[j] @ x - b[j]) / Aj_p\n",
    "                        if alpha_j < alpha:\n",
    "                            alpha = alpha_j\n",
    "                            active_set_candidate = j\n",
    "            # Update solution\n",
    "            x = x + alpha * p\n",
    "\n",
    "            if active_set_candidate is not None:\n",
    "                active_set.append(active_set_candidate)\n",
    "                \n",
    "    raise ValueError('Active set algorithm did not converge.')"
   ]
  },
  {
   "cell_type": "code",
   "execution_count": 3,
   "id": "f24ca10e-d5a5-456c-846e-83582528a42a",
   "metadata": {},
   "outputs": [],
   "source": [
    "Q = np.array([[2, 0], [0, 2]])\n",
    "c = np.array([-2, -5])\n",
    "A = np.array([[-1, 0], [0, -1], [1, 2]])\n",
    "b = np.array([0, 0, 3])"
   ]
  },
  {
   "cell_type": "code",
   "execution_count": 4,
   "id": "de1ea194-41b2-4ef9-855b-1936c24371da",
   "metadata": {},
   "outputs": [],
   "source": [
    "x0 = np.array([1.5, 0.5])"
   ]
  },
  {
   "cell_type": "code",
   "execution_count": 5,
   "id": "4953ac25-1b17-45a0-bc30-0abaf46fab08",
   "metadata": {},
   "outputs": [
    {
     "name": "stdout",
     "output_type": "stream",
     "text": [
      "Converged in 3 iterations.\n"
     ]
    }
   ],
   "source": [
    "optimal_x = active_set_algorithm(Q, c, A, b, x0)"
   ]
  },
  {
   "cell_type": "code",
   "execution_count": 6,
   "id": "a793501e-86a6-4551-85e0-d53b3ba144c8",
   "metadata": {},
   "outputs": [
    {
     "name": "stdout",
     "output_type": "stream",
     "text": [
      "Optimal solution: [3. 0.]\n"
     ]
    }
   ],
   "source": [
    "print(\"Optimal solution:\", optimal_x)"
   ]
  },
  {
   "cell_type": "code",
   "execution_count": 32,
   "id": "78c8ddea-3b6a-4a16-9936-be3fab857f4b",
   "metadata": {},
   "outputs": [],
   "source": [
    "def maxcut_active_set_algorithm(L, A, b, x0, tol=1e-6, max_iter=100):\n",
    "\n",
    "    x = x0\n",
    "    m, n = A.shape\n",
    "    active_set = []\n",
    "    lag_mul = None\n",
    "\n",
    "    for i in range(max_iter):\n",
    "        residuals = A @ x - b\n",
    "        violated = np.where(residuals > tol)[0]\n",
    "        grad = L @ x\n",
    "\n",
    "        if len(violated) > 0:\n",
    "            active_set.append(violated[0])\n",
    "\n",
    "        if len(violated) == 0:\n",
    "            if len(active_set) == 0:\n",
    "                # p = -solve(L, grad)\n",
    "                p, _, _, _ = np.linalg.lstsq(L, -grad, rcond=None)\n",
    "            else:\n",
    "                A_eq = A[active_set]\n",
    "                try:\n",
    "                    W = np.block([[L, A_eq.T], [A_eq, np.zeros((len(active_set), len(active_set)))]])\n",
    "                    rhs = np.block([-grad, np.zeros(len(active_set))])\n",
    "                    # sol = solve(W, rhs)\n",
    "                    sol, _, _, _ = np.linalg.lstsq(W, rhs, rcond=None)\n",
    "                    p = sol[:n]\n",
    "                    lag_mul = sol[n:]\n",
    "                except np.linalg.LinAlgError:\n",
    "                    p = np.zeros_like(x)\n",
    "\n",
    "                if lag_mul is not None and np.all(lag_mul >= -tol):\n",
    "                    print(f'Converged in {i} iterations.')\n",
    "                    return x\n",
    "        else:\n",
    "            p = np.zeros_like(x)\n",
    "\n",
    "        if np.linalg.norm(p) < tol:\n",
    "            if lag_mul is None or np.all(lag_mul >= -tol):\n",
    "                print(f'Converged in {i} iterations.')\n",
    "                return x\n",
    "\n",
    "            min_lag_mul_idx = np.argmin(lag_mul)\n",
    "            active_set.pop(min_lag_mul_idx)\n",
    "\n",
    "        else:\n",
    "            alpha = 1.0\n",
    "            active_set_candidate = None\n",
    "            for j in range(m):\n",
    "                if j not in active_set:\n",
    "                    Aj_p = A[j] @ p\n",
    "                    if Aj_p < 0:\n",
    "                        alpha_j = -(A[j] @ x - b[j]) / Aj_p\n",
    "                        if alpha_j < alpha:\n",
    "                            alpha = alpha_j\n",
    "                            active_set_candidate = j\n",
    "\n",
    "            x = x + alpha * p\n",
    "\n",
    "            if active_set_candidate is not None:\n",
    "                active_set.append(active_set_candidate)\n",
    "    \n",
    "    raise ValueError('Active set algorithm did not converge.')"
   ]
  },
  {
   "cell_type": "code",
   "execution_count": 49,
   "id": "7bf59e45-ac80-46ef-9ad7-36a51d6f3973",
   "metadata": {},
   "outputs": [],
   "source": [
    "import networkx as nx\n",
    "\n",
    "G = nx.Graph()\n",
    "G.add_edge(1, 2)\n",
    "G.add_edge(1, 3)"
   ]
  },
  {
   "cell_type": "code",
   "execution_count": 50,
   "id": "c4333083-d801-4752-8577-6a953173a0ee",
   "metadata": {},
   "outputs": [],
   "source": [
    "L = nx.laplacian_matrix(G)"
   ]
  },
  {
   "cell_type": "code",
   "execution_count": 7,
   "id": "fa9d68a7-9997-45c8-833d-5d7a0b48d3d3",
   "metadata": {},
   "outputs": [],
   "source": [
    "L = np.array([\n",
    "    [ 1, -1,  0],\n",
    "    [-1,  2, -1],\n",
    "    [ 0, -1,  1]\n",
    "])"
   ]
  },
  {
   "cell_type": "code",
   "execution_count": 52,
   "id": "7687103c-3e47-4407-be8f-3e35e1c7c3e5",
   "metadata": {},
   "outputs": [],
   "source": [
    "A = np.array([\n",
    "    [1, 0, 0],\n",
    "    [-1, 0, 0],\n",
    "    [0, 1, 0],\n",
    "    [0, -1, 0],\n",
    "    [0, 0, 1],\n",
    "    [0, 0, -1]\n",
    "])\n",
    "\n",
    "b = np.array([1, 1, 1, 1, 1, 1])"
   ]
  },
  {
   "cell_type": "code",
   "execution_count": 53,
   "id": "7e2ef6d8-3a2a-41b4-8dca-fc3ae0d34266",
   "metadata": {},
   "outputs": [],
   "source": [
    "x0 = np.array([1, 1, 1])"
   ]
  },
  {
   "cell_type": "code",
   "execution_count": 28,
   "id": "08ca6b28-4668-4b44-a1a7-30b7be5087c1",
   "metadata": {},
   "outputs": [],
   "source": [
    "residuals = A @ x0 - b\n",
    "violated = np.where(residuals > 1e-6)[0]"
   ]
  },
  {
   "cell_type": "code",
   "execution_count": 29,
   "id": "6287385f-78d4-4d06-9e04-90b45982547c",
   "metadata": {},
   "outputs": [
    {
     "name": "stdout",
     "output_type": "stream",
     "text": [
      "[ 0.  -2.  -0.5 -1.5  0.  -2. ]\n"
     ]
    }
   ],
   "source": [
    "print(residuals)"
   ]
  },
  {
   "cell_type": "code",
   "execution_count": 30,
   "id": "a6af9197-fb9f-4841-a32b-4afedc620a43",
   "metadata": {},
   "outputs": [
    {
     "name": "stdout",
     "output_type": "stream",
     "text": [
      "[]\n"
     ]
    }
   ],
   "source": [
    "print(violated)"
   ]
  },
  {
   "cell_type": "code",
   "execution_count": 54,
   "id": "09e5d281-22e5-4a48-859e-6292b904d833",
   "metadata": {
    "collapsed": true,
    "jupyter": {
     "outputs_hidden": true
    }
   },
   "outputs": [
    {
     "ename": "LinAlgError",
     "evalue": "0-dimensional array given. Array must be two-dimensional",
     "output_type": "error",
     "traceback": [
      "\u001b[0;31m---------------------------------------------------------------------------\u001b[0m",
      "\u001b[0;31mLinAlgError\u001b[0m                               Traceback (most recent call last)",
      "Cell \u001b[0;32mIn[54], line 1\u001b[0m\n\u001b[0;32m----> 1\u001b[0m optimal_x \u001b[38;5;241m=\u001b[39m \u001b[43mmaxcut_active_set_algorithm\u001b[49m\u001b[43m(\u001b[49m\u001b[43mL\u001b[49m\u001b[43m,\u001b[49m\u001b[43m \u001b[49m\u001b[43mA\u001b[49m\u001b[43m,\u001b[49m\u001b[43m \u001b[49m\u001b[43mb\u001b[49m\u001b[43m,\u001b[49m\u001b[43m \u001b[49m\u001b[43mx0\u001b[49m\u001b[43m)\u001b[49m\n",
      "Cell \u001b[0;32mIn[32], line 19\u001b[0m, in \u001b[0;36mmaxcut_active_set_algorithm\u001b[0;34m(L, A, b, x0, tol, max_iter)\u001b[0m\n\u001b[1;32m     16\u001b[0m \u001b[38;5;28;01mif\u001b[39;00m \u001b[38;5;28mlen\u001b[39m(violated) \u001b[38;5;241m==\u001b[39m \u001b[38;5;241m0\u001b[39m:\n\u001b[1;32m     17\u001b[0m     \u001b[38;5;28;01mif\u001b[39;00m \u001b[38;5;28mlen\u001b[39m(active_set) \u001b[38;5;241m==\u001b[39m \u001b[38;5;241m0\u001b[39m:\n\u001b[1;32m     18\u001b[0m         \u001b[38;5;66;03m# p = -solve(L, grad)\u001b[39;00m\n\u001b[0;32m---> 19\u001b[0m         p, _, _, _ \u001b[38;5;241m=\u001b[39m \u001b[43mnp\u001b[49m\u001b[38;5;241;43m.\u001b[39;49m\u001b[43mlinalg\u001b[49m\u001b[38;5;241;43m.\u001b[39;49m\u001b[43mlstsq\u001b[49m\u001b[43m(\u001b[49m\u001b[43mL\u001b[49m\u001b[43m,\u001b[49m\u001b[43m \u001b[49m\u001b[38;5;241;43m-\u001b[39;49m\u001b[43mgrad\u001b[49m\u001b[43m,\u001b[49m\u001b[43m \u001b[49m\u001b[43mrcond\u001b[49m\u001b[38;5;241;43m=\u001b[39;49m\u001b[38;5;28;43;01mNone\u001b[39;49;00m\u001b[43m)\u001b[49m\n\u001b[1;32m     20\u001b[0m     \u001b[38;5;28;01melse\u001b[39;00m:\n\u001b[1;32m     21\u001b[0m         A_eq \u001b[38;5;241m=\u001b[39m A[active_set]\n",
      "File \u001b[0;32m~/anaconda3/envs/qiskit/lib/python3.11/site-packages/numpy/linalg/linalg.py:2293\u001b[0m, in \u001b[0;36mlstsq\u001b[0;34m(a, b, rcond)\u001b[0m\n\u001b[1;32m   2291\u001b[0m \u001b[38;5;28;01mif\u001b[39;00m is_1d:\n\u001b[1;32m   2292\u001b[0m     b \u001b[38;5;241m=\u001b[39m b[:, newaxis]\n\u001b[0;32m-> 2293\u001b[0m \u001b[43m_assert_2d\u001b[49m\u001b[43m(\u001b[49m\u001b[43ma\u001b[49m\u001b[43m,\u001b[49m\u001b[43m \u001b[49m\u001b[43mb\u001b[49m\u001b[43m)\u001b[49m\n\u001b[1;32m   2294\u001b[0m m, n \u001b[38;5;241m=\u001b[39m a\u001b[38;5;241m.\u001b[39mshape[\u001b[38;5;241m-\u001b[39m\u001b[38;5;241m2\u001b[39m:]\n\u001b[1;32m   2295\u001b[0m m2, n_rhs \u001b[38;5;241m=\u001b[39m b\u001b[38;5;241m.\u001b[39mshape[\u001b[38;5;241m-\u001b[39m\u001b[38;5;241m2\u001b[39m:]\n",
      "File \u001b[0;32m~/anaconda3/envs/qiskit/lib/python3.11/site-packages/numpy/linalg/linalg.py:200\u001b[0m, in \u001b[0;36m_assert_2d\u001b[0;34m(*arrays)\u001b[0m\n\u001b[1;32m    198\u001b[0m \u001b[38;5;28;01mfor\u001b[39;00m a \u001b[38;5;129;01min\u001b[39;00m arrays:\n\u001b[1;32m    199\u001b[0m     \u001b[38;5;28;01mif\u001b[39;00m a\u001b[38;5;241m.\u001b[39mndim \u001b[38;5;241m!=\u001b[39m \u001b[38;5;241m2\u001b[39m:\n\u001b[0;32m--> 200\u001b[0m         \u001b[38;5;28;01mraise\u001b[39;00m LinAlgError(\u001b[38;5;124m'\u001b[39m\u001b[38;5;132;01m%d\u001b[39;00m\u001b[38;5;124m-dimensional array given. Array must be \u001b[39m\u001b[38;5;124m'\u001b[39m\n\u001b[1;32m    201\u001b[0m                 \u001b[38;5;124m'\u001b[39m\u001b[38;5;124mtwo-dimensional\u001b[39m\u001b[38;5;124m'\u001b[39m \u001b[38;5;241m%\u001b[39m a\u001b[38;5;241m.\u001b[39mndim)\n",
      "\u001b[0;31mLinAlgError\u001b[0m: 0-dimensional array given. Array must be two-dimensional"
     ]
    }
   ],
   "source": [
    "optimal_x = maxcut_active_set_algorithm(L, A, b, x0)"
   ]
  },
  {
   "cell_type": "code",
   "execution_count": 43,
   "id": "9ecf8c5c-a75b-4d37-9037-8e41350632a5",
   "metadata": {},
   "outputs": [
    {
     "name": "stdout",
     "output_type": "stream",
     "text": [
      "Optimal solution: [1 1 1]\n"
     ]
    }
   ],
   "source": [
    "print(\"Optimal solution:\", optimal_x)"
   ]
  },
  {
   "cell_type": "code",
   "execution_count": null,
   "id": "ec0176f5-2e75-4d9e-bf86-61c20d52c88a",
   "metadata": {},
   "outputs": [],
   "source": []
  }
 ],
 "metadata": {
  "kernelspec": {
   "display_name": "Python 3 (ipykernel)",
   "language": "python",
   "name": "python3"
  },
  "language_info": {
   "codemirror_mode": {
    "name": "ipython",
    "version": 3
   },
   "file_extension": ".py",
   "mimetype": "text/x-python",
   "name": "python",
   "nbconvert_exporter": "python",
   "pygments_lexer": "ipython3",
   "version": "3.11.9"
  }
 },
 "nbformat": 4,
 "nbformat_minor": 5
}
