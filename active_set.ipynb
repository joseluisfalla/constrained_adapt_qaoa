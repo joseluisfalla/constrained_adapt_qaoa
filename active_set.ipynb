{
 "cells": [
  {
   "cell_type": "code",
   "execution_count": 53,
   "id": "329cf0e2-94dc-4fd7-8e57-08db1ea51fbf",
   "metadata": {},
   "outputs": [],
   "source": [
    "import numpy as np\n",
    "import networkx as nx\n",
    "from scipy.linalg import solve\n",
    "from itertools import product\n",
    "from matplotlib import pyplot as plt"
   ]
  },
  {
   "cell_type": "code",
   "execution_count": 2,
   "id": "811c38e8-8a74-4888-bea2-fca2424dddcf",
   "metadata": {
    "editable": true,
    "jupyter": {
     "source_hidden": true
    },
    "slideshow": {
     "slide_type": ""
    },
    "tags": []
   },
   "outputs": [],
   "source": [
    "def active_set_algorithm(G, c, A, b, x0, tol=1e-6, max_iter=100):\n",
    "\n",
    "    x = x0\n",
    "    m, n = A.shape\n",
    "    active_set = []\n",
    "\n",
    "    for k in range(max_iter):\n",
    "        # Check for violated constraints\n",
    "        residuals = A @ x - b\n",
    "        violated = np.where(residuals > tol)[0]\n",
    "        # Compute gradient\n",
    "        grad = G @ x + c\n",
    "\n",
    "        if len(violated) == 0:\n",
    "            # If there are no violated constraints, check optimality conditions\n",
    "            if len(active_set) == 0:\n",
    "                p = -solve(G, grad)\n",
    "            else:\n",
    "                A_eq = A[active_set]\n",
    "                try:\n",
    "                    W = np.block([[G, A_eq.T], [A_eq, np.zeros((len(active_set), len(active_set)))]])\n",
    "                    rhs = np.block([-grad, np.zeros(len(active_set))])\n",
    "                    sol = solve(W, rhs)\n",
    "                    p = sol[:n]\n",
    "                    lag_mul = sol[n:]\n",
    "                except np.linalg.LinAlgError:\n",
    "                    p = np.zeros_like(x)\n",
    "\n",
    "            # Check for optimality (Lagrange multipliers)\n",
    "                if np.all(lag_mul >= -tol):\n",
    "                    # print(f'Converged in {k} iterations.')\n",
    "                    return x\n",
    "        else:\n",
    "            p = np.zeros_like(x)\n",
    "\n",
    "        if np.linalg.norm(p) < tol:\n",
    "            # Check if Lagrange multipliers are non-negative\n",
    "            if len(active_set) == 0 or np.all(lag_mul >= -tol):\n",
    "                # print(f'Converged in {k} iterations.')\n",
    "                return x\n",
    "            min_lag_mul_idx = np.argmin(lag_mul)\n",
    "            active_set.pop(min_lag_mul_idx)\n",
    "        else:\n",
    "            # Take a step along p\n",
    "            alpha = 1.0\n",
    "            active_set_candidate = None\n",
    "            for j in range(m):\n",
    "                if j not in active_set:\n",
    "                    Aj_p = A[j] @ p\n",
    "                    if Aj_p < 0:\n",
    "                        # Calculate the step size alpha that would violate this constraint\n",
    "                        alpha_j = -(A[j] @ x - b[j]) / Aj_p\n",
    "                        if alpha_j < alpha:\n",
    "                            alpha = alpha_j\n",
    "                            active_set_candidate = j\n",
    "            # Update solution\n",
    "            x = x + alpha * p\n",
    "\n",
    "            if active_set_candidate is not None:\n",
    "                active_set.append(active_set_candidate)\n",
    "                \n",
    "    raise ValueError('Active set algorithm did not converge.')"
   ]
  },
  {
   "cell_type": "code",
   "execution_count": 2,
   "id": "d9c4d771-2671-40c5-9fc0-6b0bf2e57027",
   "metadata": {
    "jupyter": {
     "source_hidden": true
    }
   },
   "outputs": [],
   "source": [
    "G = np.array([[2, 0], [0, 2]])\n",
    "c = np.array([-2, -5])\n",
    "A = np.array([[1, -2], [-1, -2], [-1, 2], [1, 0], [0, 1]])\n",
    "b = np.array([-2, -6, -2, 0, 0])\n",
    "x0 = np.array([2, 0])"
   ]
  },
  {
   "cell_type": "code",
   "execution_count": null,
   "id": "773ac0ed-6065-4b28-8a31-08d62d32cc57",
   "metadata": {
    "editable": true,
    "jupyter": {
     "source_hidden": true
    },
    "slideshow": {
     "slide_type": ""
    },
    "tags": []
   },
   "outputs": [],
   "source": [
    "optimal_x = active_set_algorithm(G, c, A, b, x0)"
   ]
  },
  {
   "cell_type": "code",
   "execution_count": 22,
   "id": "02103cab-9470-48fa-9e75-1163fe513e83",
   "metadata": {
    "collapsed": true,
    "jupyter": {
     "outputs_hidden": true,
     "source_hidden": true
    }
   },
   "outputs": [
    {
     "name": "stdout",
     "output_type": "stream",
     "text": [
      "Optimal solution: [1.4, 1.7]\n"
     ]
    }
   ],
   "source": [
    "print(\"Optimal solution:\", optimal_x)"
   ]
  },
  {
   "cell_type": "code",
   "execution_count": 2,
   "id": "8887ac34-4170-44ed-a7ea-d61f0a338b3d",
   "metadata": {},
   "outputs": [],
   "source": [
    "def simplex_tableau(c, A, b):\n",
    "    tol = 1e-14\n",
    "    res = ''\n",
    "    c = np.array(c)\n",
    "    A = np.array(A)\n",
    "    b = np.array(b)\n",
    "    m, n = A.shape\n",
    "    Ni = np.array(range(n - m))\n",
    "    Bi = np.array(range(m)) + n - m\n",
    "    x = np.zeros((n, 1))\n",
    "    xB = np.array(b)\n",
    "\n",
    "    for _ in range(4 * m):\n",
    "        l = np.linalg.solve(A[:, Bi], c[Bi])\n",
    "        sN = c[Ni] - np.matmul(np.transpose(A[:, Ni]), l)\n",
    "        sm = np.min(sN)\n",
    "        qq = np.argmin(sN)\n",
    "        q = Ni[qq]\n",
    "        xm = np.min(xB)\n",
    "        p = np.argmin(xB)\n",
    "        mu = np.minimum(sm, xm)\n",
    "\n",
    "        if mu >= -tol:\n",
    "            res = 'solution found'\n",
    "            break\n",
    "        if mu == sm:\n",
    "            a = A[:, q]\n",
    "            p = np.argmax(a)\n",
    "            phi = A[p, q]\n",
    "            if phi <= tol:\n",
    "                res = 'primal infeasible or unbounded'\n",
    "                break\n",
    "        else:\n",
    "            sigma = A[p, Ni]\n",
    "            qq = np.argmin(sigma)\n",
    "            q = Ni[qq]\n",
    "            phi = A[p, q]\n",
    "            if phi >= -tol:\n",
    "                res = 'dual infeasible or unbounded'\n",
    "        xB[p] = xB[p] / phi\n",
    "        A[p, :] = A[p, :] / phi\n",
    "        oi = range(m)\n",
    "        oi.remove(p)\n",
    "        xB[oi] = xB[oi] - A[oi, q] * xB[p]\n",
    "        A[oi, :] = A[oi, :] - np.multiply.outer(A[oi, q], A[p, :])\n",
    "        Ni[Ni == q] = Bi[p]\n",
    "        Bi[p] = q\n",
    "    x[Bi, 0] = xB\n",
    "    opt = np.dot(c, x)\n",
    "\n",
    "    if len(res) == 0:\n",
    "        res = 'iters exceeded max number'\n",
    "    \n",
    "    return x, opt[0], res"
   ]
  },
  {
   "cell_type": "code",
   "execution_count": 20,
   "id": "03a766f7-de9a-40f0-ad57-42342d876b79",
   "metadata": {},
   "outputs": [],
   "source": [
    "def active_set_qp(x, d, G, ce, be, ci, bi, W=[]):\n",
    "\n",
    "    tol = 1e-8\n",
    "    w, v = np.linalg.eig(G)\n",
    "    has_neg_eigval = np.any(w < 0)\n",
    "    n = len(x)\n",
    "    ni = len(ci)\n",
    "    ne = len(ce)\n",
    "    ce = np.array(ce)\n",
    "    ci = np.array(ci)\n",
    "    be = np.array(be)\n",
    "    bi = np.array(bi)\n",
    "\n",
    "    if ni == 0:\n",
    "        ci = np.zeros((0, n))\n",
    "    if ne == 0:\n",
    "        ce = np.zeros((0, n))\n",
    "\n",
    "    eq = ce @ x - be\n",
    "    iq = ci @ x - bi\n",
    "\n",
    "    if np.all(np.abs(eq) < tol) and np.all(iq > -tol):\n",
    "        if len(W) != ni:\n",
    "            W = iq < tol\n",
    "    else:\n",
    "        c = np.concatenate((np.zeros(2 * n), np.ones(ni + 2 * ne)))\n",
    "        A = np.concatenate((np.concatenate((-ci, ci, np.eye(ni), np.zeros((ni, 2 * ne))), 1), \n",
    "                            np.concatenate((ce, -ce, np.zeros((ne, ni)), np.zeros((ne, ne))), 1), \n",
    "                            np.concatenate((-ce, ce, np.zeros((ne, ni + ne)), np.eye(ne)), 1)), 0)\n",
    "        b = np.concatenate((-bi, be, -be))\n",
    "        x, opt, res = simplex_tableau(c, A, b)\n",
    "        x = x[0:n] - x[n:2 * n]\n",
    "        W = ci * x - bi < tol\n",
    "        if not res == 'solution found':\n",
    "            return x, W, [], 'infeasible constraints'\n",
    "            print('infeasible constraints')\n",
    "\n",
    "    for _ in range(4 * ni + 4):\n",
    "        na = np.sum(W)\n",
    "        A = np.concatenate((ce, ci[W, :]), 0)\n",
    "        b = np.concatenate((be, bi[W]), 0)\n",
    "        c = A @ x - b\n",
    "        g = d + np.matmul(G, x)\n",
    "        K = np.concatenate((np.concatenate((G, A.T), 1), np.concatenate((A, np.zeros((ne + na, ne + na))), 1)), 0)\n",
    "        npl = np.linalg.solve(K, np.concatenate((g, c), 0))\n",
    "        p = -npl[0:n]\n",
    "\n",
    "        if has_neg_eigval:\n",
    "            cdirnegcurv = False\n",
    "            Q, R = np.linalg.qr(A.T, 'complete')\n",
    "            Z = Q[:, na:]\n",
    "            if not Z.shape[1] == 0:\n",
    "                w, v = np.linalg.eig((Z.T @ G) @ Z)\n",
    "                if np.min(w) < 0:\n",
    "                    dd = Z @ v[:, np.argmin(w)]\n",
    "                    p = -1e-4 * np.sign(np.dot(g, dd)) * dd\n",
    "                    cdirnegcurv = True\n",
    "        if np.all(np.abs(p) < tol):\n",
    "            lambdaW = npl[n + ne:n + ne + na]\n",
    "            l = np.zeros(ni)\n",
    "            l[W] = lambdaW\n",
    "            if np.all(lambdaW >= -tol):\n",
    "                return x, W, l, 'solution found'\n",
    "            else:\n",
    "                mlw = np.sort(lambdaW[lambdaW < 0])\n",
    "                ri = mlw[0] == l\n",
    "                if 'ac' in locals() and np.all(ri == ac) and len(mlw) > 1:\n",
    "                    ri = mlw[np.ceil((len(mlw) - 1) * np.rand())] == l\n",
    "                W[ri] = False\n",
    "        else:\n",
    "            cip = ci @ p\n",
    "            bicixcip = (bi - ci @ x) / cip\n",
    "            findminof = bicixcip[np.invert(W) & (cip < 0)]\n",
    "            if len(findminof > 0):\n",
    "                alpha = np.min(findminof)\n",
    "            else:\n",
    "                alpha = 1\n",
    "            if alpha > 1:\n",
    "                alpha = 1\n",
    "            if has_neg_eigval and alpha == 1 and cdirnegcurv:\n",
    "                print('problem unbounded, could not find constraint in a negative curvature direction')\n",
    "                return x, W, [], 'problem unbounded, could not find constraint in a negative curvature direction'\n",
    "            x = x + alpha * p\n",
    "            if alpha < 1:\n",
    "                ac = (alpha == bicixcip) & np.invert(W) & (cip < 0)\n",
    "                W = W | ac\n",
    "\n",
    "    print('problem unbounded, could not find constraint in a negative curvature direction')\n",
    "    return x, W, l, 'problem unbounded, could not find constraint in a negative curvature direction'"
   ]
  },
  {
   "cell_type": "code",
   "execution_count": 21,
   "id": "db1aac4a-5cc1-49ee-b0ae-81ee5f746243",
   "metadata": {},
   "outputs": [
    {
     "name": "stdout",
     "output_type": "stream",
     "text": [
      "(array([1.4, 1.7]), array([ True, False, False, False, False]), array([0.8, 0. , 0. , 0. , 0. ]), 'solution found')\n"
     ]
    }
   ],
   "source": [
    "x = [2., 0.]\n",
    "d = [-2., -5.]\n",
    "G = [[2., 0.], [0., 2.]]\n",
    "ce = []\n",
    "be = []\n",
    "ci = [[1., -2.], [-1., -2.], [-1., 2.], [1., 0.], [0., 1.]]\n",
    "bi = [-2., -6., -2., 0., 0.]\n",
    "W = [False, False, False, False, False]\n",
    "print(active_set_qp(x, d, G, ce, be, ci, bi, W))"
   ]
  },
  {
   "cell_type": "code",
   "execution_count": 59,
   "id": "b3f35c8b-cbf0-44d5-ae28-e06ae6642b00",
   "metadata": {},
   "outputs": [
    {
     "name": "stdout",
     "output_type": "stream",
     "text": [
      "solution: [0.8157054  0.69945129 0.32861387]\n",
      "status: optimal solution found\n"
     ]
    }
   ],
   "source": [
    "def maxcut_qp(x, W, ci, bi, tol=1e-8):\n",
    "\n",
    "    n = len(x)\n",
    "    ni = len(ci) if ci is not None else 0\n",
    "    ci = np.array(ci) if ni > 0 else np.zeros((0, n))\n",
    "    bi = np.array(bi) if ni > 0 else np.zeros(0)\n",
    "\n",
    "    G = -W / 4\n",
    "    d = np.zeros(n)\n",
    "\n",
    "    W_active = np.zeros(ni, dtype=bool)\n",
    "    \n",
    "    for iteration in range(100):\n",
    "        \n",
    "        A = ci[W_active, :] if ni > 0 else np.zeros((0, n))\n",
    "        b = bi[W_active] if ni > 0 else np.zeros(0)\n",
    "        \n",
    "        \n",
    "        K = np.block([\n",
    "            [G, A.T],\n",
    "            [A, np.zeros((len(A), len(A)))]\n",
    "        ])\n",
    "        rhs = np.concatenate([-d, b])\n",
    "        solution = np.linalg.solve(K, rhs)\n",
    "        \n",
    "        p = solution[:n]  \n",
    "        lambdas = solution[n:]  \n",
    "\n",
    "        if np.all(np.abs(p) < tol):\n",
    "            if np.all(lambdas >= -tol):\n",
    "                return x, \"optimal solution found\"\n",
    "            else:\n",
    "                idx_to_remove = np.argmin(lambdas)\n",
    "                W_active[idx_to_remove] = False\n",
    "        else:\n",
    "            alpha = 1\n",
    "            for i in range(ni):\n",
    "                if not W_active[i]:\n",
    "                    ci_p = np.dot(ci[i], p)\n",
    "                    if ci_p < 0:\n",
    "                        alpha = min(alpha, (bi[i] - np.dot(ci[i], x)) / ci_p)\n",
    "\n",
    "            x = x + alpha * p\n",
    "            \n",
    "            if alpha < 1:\n",
    "                for i in range(ni):\n",
    "                    if not W_active[i] and np.abs(np.dot(ci[i], x) - bi[i]) < tol:\n",
    "                        W_active[i] = True\n",
    "\n",
    "    return x, \"iteration limit exceeded\"\n",
    "\n",
    "if __name__ == \"__main__\":\n",
    "    W = np.array([\n",
    "        [0, 1, 2],\n",
    "        [1, 0, 3],\n",
    "        [2, 3, 0]\n",
    "    ])\n",
    "\n",
    "    x_init = np.random.rand(3)\n",
    "    ci = [[1, 1, 1]]\n",
    "    bi = [1]\n",
    "\n",
    "    x_solution, status = maxcut_qp(x_init, W, ci, bi)\n",
    "    print(\"solution:\", x_solution)\n",
    "    print(\"status:\", status)"
   ]
  },
  {
   "cell_type": "code",
   "execution_count": 86,
   "id": "4700b5c8-61d6-42d3-ab6d-49e491a8a31a",
   "metadata": {},
   "outputs": [
    {
     "name": "stdout",
     "output_type": "stream",
     "text": [
      "MaxCut: -3.022400269811621\n",
      "status: optimal solution found\n",
      "partition: [1, 0, 1, 1, 0, 0]\n"
     ]
    }
   ],
   "source": [
    "if __name__ == \"__main__\":\n",
    "    W = np.array([\n",
    "        [0, 2, 1, 0, 0, 3],  \n",
    "        [2, 0, 4, 0, 1, 0],  \n",
    "        [1, 4, 0, 5, 0, 0],  \n",
    "        [0, 0, 5, 0, 3, 2],  \n",
    "        [0, 1, 0, 3, 0, 4],  \n",
    "        [3, 0, 0, 2, 4, 0] \n",
    "    ])\n",
    "    \n",
    "    x_init = np.random.rand(6)\n",
    "\n",
    "    ci = np.array([[1, 1, 1, 1, 1, 1]])\n",
    "    bi = np.array([3])  \n",
    "\n",
    "    max_cut_value, status = maxcut_qp(x_init, W, ci, bi)\n",
    "\n",
    "    binary_partition = np.round(max_cut_value).astype(int)\n",
    "\n",
    "    print(\"MaxCut:\", -np.dot(x_init, np.dot(W, x_init)) / 4)\n",
    "    print(\"status:\", status)\n",
    "    print(\"partition:\", binary_partition.tolist())"
   ]
  },
  {
   "cell_type": "code",
   "execution_count": 45,
   "id": "c704d92f-7bff-43af-a2b0-a364a7fec6e9",
   "metadata": {},
   "outputs": [
    {
     "name": "stdout",
     "output_type": "stream",
     "text": [
      "MaxCut: 5\n",
      "partition: [0, 0, 1]\n"
     ]
    }
   ],
   "source": [
    "def maxcut_bruteforce(W):\n",
    "    \n",
    "    n = len(W)\n",
    "    max_cut_value = 0\n",
    "    best_partition = None\n",
    "\n",
    "    for partition in product([0, 1], repeat=n):\n",
    "        partition = np.array(partition)\n",
    "\n",
    "        cut_value = 0\n",
    "        for i in range(n):\n",
    "            for j in range(i + 1, n):  \n",
    "                if partition[i] != partition[j]:  \n",
    "                    cut_value += W[i, j]\n",
    "        \n",
    "        if cut_value > max_cut_value:\n",
    "            max_cut_value = cut_value\n",
    "            best_partition = partition\n",
    "\n",
    "    return max_cut_value, best_partition\n",
    "\n",
    "if __name__ == \"__main__\":\n",
    "    W = np.array([\n",
    "        [0, 1, 2],\n",
    "        [1, 0, 3],\n",
    "        [2, 3, 0]\n",
    "    ])\n",
    "\n",
    "    max_cut_value, best_partition = maxcut_bruteforce(W)\n",
    "    print(\"MaxCut:\", max_cut_value)\n",
    "    print(\"partition:\", best_partition.tolist())\n"
   ]
  },
  {
   "cell_type": "code",
   "execution_count": 70,
   "id": "907fd6a6-1ffa-4246-a1a4-ec320a1a97c5",
   "metadata": {},
   "outputs": [
    {
     "name": "stdout",
     "output_type": "stream",
     "text": [
      "MaxCut: 22\n",
      "partition: [0, 1, 0, 1, 0, 1]\n"
     ]
    }
   ],
   "source": [
    "if __name__ == \"__main__\":\n",
    "    W = np.array([\n",
    "        [0, 2, 1, 0, 0, 3],  \n",
    "        [2, 0, 4, 0, 1, 0],  \n",
    "        [1, 4, 0, 5, 0, 0],  \n",
    "        [0, 0, 5, 0, 3, 2],  \n",
    "        [0, 1, 0, 3, 0, 4],  \n",
    "        [3, 0, 0, 2, 4, 0]\n",
    "    ])\n",
    "\n",
    "    max_cut_value, best_partition = maxcut_bruteforce(W)\n",
    "    print(\"MaxCut:\", max_cut_value)\n",
    "    print(\"partition:\", best_partition.tolist())\n"
   ]
  },
  {
   "cell_type": "code",
   "execution_count": 58,
   "id": "ae49ee78-b7f0-43c7-8286-35d0df8cc771",
   "metadata": {},
   "outputs": [
    {
     "data": {
      "image/png": "[encoded data removed]",
      "text/plain": [
       "<Figure size 640x480 with 1 Axes>"
      ]
     },
     "metadata": {},
     "output_type": "display_data"
    }
   ],
   "source": [
    "W = np.array([\n",
    "        [0, 2, 1, 0, 0, 3],  \n",
    "        [2, 0, 4, 0, 1, 0],  \n",
    "        [1, 4, 0, 5, 0, 0],  \n",
    "        [0, 0, 5, 0, 3, 2],  \n",
    "        [0, 1, 0, 3, 0, 4],  \n",
    "        [3, 0, 0, 2, 4, 0]\n",
    "    ])\n",
    "G = nx.from_numpy_array(W, create_using=nx.DiGraph)\n",
    "layout = nx.spring_layout(G)\n",
    "nx.draw(G, layout)\n",
    "nx.draw_networkx_edge_labels(G, pos=layout)\n",
    "plt.show()"
   ]
  },
  {
   "cell_type": "code",
   "execution_count": null,
   "id": "02b9cd3e-bb4a-470f-81a8-75d68873023f",
   "metadata": {},
   "outputs": [],
   "source": []
  }
 ],
 "metadata": {
  "kernelspec": {
   "display_name": "Python 3 (ipykernel)",
   "language": "python",
   "name": "python3"
  },
  "language_info": {
   "codemirror_mode": {
    "name": "ipython",
    "version": 3
   },
   "file_extension": ".py",
   "mimetype": "text/x-python",
   "name": "python",
   "nbconvert_exporter": "python",
   "pygments_lexer": "ipython3",
   "version": "3.11.9"
  }
 },
 "nbformat": 4,
 "nbformat_minor": 5
}
