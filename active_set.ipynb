{
 "cells": [
  {
   "cell_type": "code",
   "execution_count": 1,
   "id": "329cf0e2-94dc-4fd7-8e57-08db1ea51fbf",
   "metadata": {},
   "outputs": [],
   "source": [
    "import numpy as np\n",
    "from scipy.linalg import solve"
   ]
  },
  {
   "cell_type": "code",
   "execution_count": 2,
   "id": "811c38e8-8a74-4888-bea2-fca2424dddcf",
   "metadata": {
    "editable": true,
    "slideshow": {
     "slide_type": ""
    },
    "tags": []
   },
   "outputs": [],
   "source": [
    "def active_set_algorithm(G, c, A, b, x0, tol=1e-6, max_iter=100):\n",
    "\n",
    "    x = x0\n",
    "    m, n = A.shape\n",
    "    active_set = []\n",
    "\n",
    "    for k in range(max_iter):\n",
    "        # Check for violated constraints\n",
    "        residuals = A @ x - b\n",
    "        violated = np.where(residuals > tol)[0]\n",
    "        # Compute gradient\n",
    "        grad = G @ x + c\n",
    "\n",
    "        if len(violated) == 0:\n",
    "            # If there are no violated constraints, check optimality conditions\n",
    "            if len(active_set) == 0:\n",
    "                p = -solve(G, grad)\n",
    "            else:\n",
    "                A_eq = A[active_set]\n",
    "                try:\n",
    "                    W = np.block([[G, A_eq.T], [A_eq, np.zeros((len(active_set), len(active_set)))]])\n",
    "                    rhs = np.block([-grad, np.zeros(len(active_set))])\n",
    "                    sol = solve(W, rhs)\n",
    "                    p = sol[:n]\n",
    "                    lag_mul = sol[n:]\n",
    "                except np.linalg.LinAlgError:\n",
    "                    p = np.zeros_like(x)\n",
    "\n",
    "            # Check for optimality (Lagrange multipliers)\n",
    "                if np.all(lag_mul >= -tol):\n",
    "                    # print(f'Converged in {k} iterations.')\n",
    "                    return x\n",
    "        else:\n",
    "            p = np.zeros_like(x)\n",
    "\n",
    "        if np.linalg.norm(p) < tol:\n",
    "            # Check if Lagrange multipliers are non-negative\n",
    "            if len(active_set) == 0 or np.all(lag_mul >= -tol):\n",
    "                # print(f'Converged in {k} iterations.')\n",
    "                return x\n",
    "            min_lag_mul_idx = np.argmin(lag_mul)\n",
    "            active_set.pop(min_lag_mul_idx)\n",
    "        else:\n",
    "            # Take a step along p\n",
    "            alpha = 1.0\n",
    "            active_set_candidate = None\n",
    "            for j in range(m):\n",
    "                if j not in active_set:\n",
    "                    Aj_p = A[j] @ p\n",
    "                    if Aj_p < 0:\n",
    "                        # Calculate the step size alpha that would violate this constraint\n",
    "                        alpha_j = -(A[j] @ x - b[j]) / Aj_p\n",
    "                        if alpha_j < alpha:\n",
    "                            alpha = alpha_j\n",
    "                            active_set_candidate = j\n",
    "            # Update solution\n",
    "            x = x + alpha * p\n",
    "\n",
    "            if active_set_candidate is not None:\n",
    "                active_set.append(active_set_candidate)\n",
    "                \n",
    "    raise ValueError('Active set algorithm did not converge.')"
   ]
  },
  {
   "cell_type": "code",
   "execution_count": 3,
   "id": "d9c4d771-2671-40c5-9fc0-6b0bf2e57027",
   "metadata": {},
   "outputs": [],
   "source": [
    "G = np.array([[2, 0], [0, 2]])\n",
    "c = np.array([-2, -5])\n",
    "A = np.array([[1, -2], [-1, -2], [-1, 2], [1, 0], [0, 1]])\n",
    "b = np.array([-2, -6, -2, 0, 0])\n",
    "x0 = np.array([2, 0])"
   ]
  },
  {
   "cell_type": "code",
   "execution_count": null,
   "id": "773ac0ed-6065-4b28-8a31-08d62d32cc57",
   "metadata": {
    "editable": true,
    "slideshow": {
     "slide_type": ""
    },
    "tags": []
   },
   "outputs": [],
   "source": [
    "optimal_x = active_set_algorithm(G, c, A, b, x0)"
   ]
  },
  {
   "cell_type": "code",
   "execution_count": 22,
   "id": "02103cab-9470-48fa-9e75-1163fe513e83",
   "metadata": {},
   "outputs": [
    {
     "name": "stdout",
     "output_type": "stream",
     "text": [
      "Optimal solution: [1.4, 1.7]\n"
     ]
    }
   ],
   "source": [
    "print(\"Optimal solution:\", optimal_x)"
   ]
  },
  {
   "cell_type": "code",
   "execution_count": 4,
   "id": "16a53dd6-ab63-4581-a1df-a4d57ebf1f5e",
   "metadata": {},
   "outputs": [],
   "source": [
    "tol=1e-6\n",
    "residuals = A @ x0 - b\n",
    "violated = np.where(residuals < tol)[0]"
   ]
  },
  {
   "cell_type": "code",
   "execution_count": 5,
   "id": "7cfb128b-2931-4ec1-8def-30fa72ef9549",
   "metadata": {},
   "outputs": [
    {
     "name": "stdout",
     "output_type": "stream",
     "text": [
      "[4 4 0 2 0]\n",
      "[2 4]\n"
     ]
    }
   ],
   "source": [
    "print(residuals)\n",
    "print(violated)"
   ]
  },
  {
   "cell_type": "code",
   "execution_count": 38,
   "id": "d1c1e47f-78da-499b-ba91-923a6cd020d8",
   "metadata": {},
   "outputs": [],
   "source": [
    "active_set = violated"
   ]
  },
  {
   "cell_type": "code",
   "execution_count": 26,
   "id": "aa717157-588c-4904-ae6a-4d754b452270",
   "metadata": {},
   "outputs": [],
   "source": [
    "active_set = [4]"
   ]
  },
  {
   "cell_type": "code",
   "execution_count": 7,
   "id": "0163346b-e643-45f2-8d2d-6fb0218d9665",
   "metadata": {},
   "outputs": [],
   "source": [
    "m, n = A.shape"
   ]
  },
  {
   "cell_type": "code",
   "execution_count": 40,
   "id": "0c6b6127-c6d0-444a-8c35-31d9a179afd4",
   "metadata": {},
   "outputs": [],
   "source": [
    "A_eq = np.array(A[4])"
   ]
  },
  {
   "cell_type": "code",
   "execution_count": 33,
   "id": "8a852f6e-8e56-4357-90cd-cdc154aa9263",
   "metadata": {},
   "outputs": [],
   "source": [
    "A_eq = np.array([A[2], A[4]])"
   ]
  },
  {
   "cell_type": "code",
   "execution_count": 34,
   "id": "105c4be2-9cca-4ba3-a9e7-d99047247345",
   "metadata": {},
   "outputs": [
    {
     "data": {
      "text/plain": [
       "array([[-1,  2],\n",
       "       [ 0,  1]])"
      ]
     },
     "execution_count": 34,
     "metadata": {},
     "output_type": "execute_result"
    }
   ],
   "source": [
    "A_eq"
   ]
  },
  {
   "cell_type": "code",
   "execution_count": 35,
   "id": "b5453782-ed92-4a3a-99eb-77a7cadf1350",
   "metadata": {},
   "outputs": [
    {
     "data": {
      "text/plain": [
       "array([[-1,  0],\n",
       "       [ 2,  1]])"
      ]
     },
     "execution_count": 35,
     "metadata": {},
     "output_type": "execute_result"
    }
   ],
   "source": [
    "A_eq.T"
   ]
  },
  {
   "cell_type": "code",
   "execution_count": 39,
   "id": "e397eaa2-21ae-457b-a442-187333ac6ab8",
   "metadata": {},
   "outputs": [],
   "source": [
    "W = np.block([[G, A_eq.T], [A_eq, np.zeros((len(active_set), len(active_set)))]])"
   ]
  },
  {
   "cell_type": "code",
   "execution_count": 11,
   "id": "69b0c451-01ad-4552-b35e-3ff135cceea3",
   "metadata": {},
   "outputs": [
    {
     "data": {
      "text/plain": [
       "array([[ 2.,  0., -1.,  0.],\n",
       "       [ 0.,  2.,  2.,  1.],\n",
       "       [-1.,  2.,  0.,  0.],\n",
       "       [ 0.,  1.,  0.,  0.]])"
      ]
     },
     "execution_count": 11,
     "metadata": {},
     "output_type": "execute_result"
    }
   ],
   "source": [
    "W"
   ]
  },
  {
   "cell_type": "code",
   "execution_count": 12,
   "id": "b93f7bdd-150a-469e-b4ac-88fc3de1fc08",
   "metadata": {},
   "outputs": [],
   "source": [
    "grad = G @ x0 + c"
   ]
  },
  {
   "cell_type": "code",
   "execution_count": 13,
   "id": "d19423d8-f244-4caf-a4d1-29b3198bd943",
   "metadata": {},
   "outputs": [
    {
     "data": {
      "text/plain": [
       "array([ 2, -5])"
      ]
     },
     "execution_count": 13,
     "metadata": {},
     "output_type": "execute_result"
    }
   ],
   "source": [
    "grad"
   ]
  },
  {
   "cell_type": "code",
   "execution_count": 14,
   "id": "c422b521-8142-41ce-b3a6-fcba2f946300",
   "metadata": {},
   "outputs": [],
   "source": [
    "rhs = np.block([-grad, np.zeros(len(active_set))])"
   ]
  },
  {
   "cell_type": "code",
   "execution_count": 15,
   "id": "01ad1614-d164-435c-80bc-69e8a5c9cc62",
   "metadata": {},
   "outputs": [
    {
     "data": {
      "text/plain": [
       "array([-2.,  5.,  0.,  0.])"
      ]
     },
     "execution_count": 15,
     "metadata": {},
     "output_type": "execute_result"
    }
   ],
   "source": [
    "rhs"
   ]
  },
  {
   "cell_type": "code",
   "execution_count": 16,
   "id": "c976205f-bd0f-4f40-a48e-6e8982f5d87f",
   "metadata": {},
   "outputs": [],
   "source": [
    "sol = -solve(W, rhs)"
   ]
  },
  {
   "cell_type": "code",
   "execution_count": 17,
   "id": "ad4c3b07-ba05-485b-a51b-5c24e1673b34",
   "metadata": {},
   "outputs": [
    {
     "data": {
      "text/plain": [
       "array([-2.22044605e-16, -0.00000000e+00, -2.00000000e+00, -1.00000000e+00])"
      ]
     },
     "execution_count": 17,
     "metadata": {},
     "output_type": "execute_result"
    }
   ],
   "source": [
    "sol"
   ]
  },
  {
   "cell_type": "code",
   "execution_count": 23,
   "id": "8dee3b72-3d7c-4da0-8365-88aa9c573e16",
   "metadata": {},
   "outputs": [],
   "source": [
    "p = sol[:n]\n",
    "lag_mul = sol[n:]"
   ]
  },
  {
   "cell_type": "code",
   "execution_count": 24,
   "id": "be8d645e-a5fd-4d1c-a956-991a563cfad8",
   "metadata": {},
   "outputs": [
    {
     "data": {
      "text/plain": [
       "array([-2., -1.])"
      ]
     },
     "execution_count": 24,
     "metadata": {},
     "output_type": "execute_result"
    }
   ],
   "source": [
    "lag_mul"
   ]
  },
  {
   "cell_type": "code",
   "execution_count": 25,
   "id": "3419acc5-ae91-4c21-8be6-f25477ebceb9",
   "metadata": {},
   "outputs": [
    {
     "data": {
      "text/plain": [
       "array([-2.22044605e-16, -0.00000000e+00])"
      ]
     },
     "execution_count": 25,
     "metadata": {},
     "output_type": "execute_result"
    }
   ],
   "source": [
    "p"
   ]
  },
  {
   "cell_type": "code",
   "execution_count": 20,
   "id": "7f087450-9386-4976-a8eb-acbb86d8bbf5",
   "metadata": {},
   "outputs": [],
   "source": [
    "min_lag_mul_idx = np.argmin(lag_mul)\n",
    "active_set = np.delete(active_set, min_lag_mul_idx)"
   ]
  },
  {
   "cell_type": "code",
   "execution_count": 41,
   "id": "ba03b5ad-eaf7-4e99-ae15-4b7d281d243c",
   "metadata": {
    "editable": true,
    "slideshow": {
     "slide_type": ""
    },
    "tags": []
   },
   "outputs": [],
   "source": [
    "x = x0 + p"
   ]
  },
  {
   "cell_type": "code",
   "execution_count": 42,
   "id": "64b754f7-590a-4f1d-97d7-f0a44c19088d",
   "metadata": {},
   "outputs": [
    {
     "data": {
      "text/plain": [
       "array([2., 0.])"
      ]
     },
     "execution_count": 42,
     "metadata": {},
     "output_type": "execute_result"
    }
   ],
   "source": [
    "x"
   ]
  },
  {
   "cell_type": "code",
   "execution_count": 50,
   "id": "df2ed064-cb46-42bb-88e3-4c5563c8f3a8",
   "metadata": {
    "editable": true,
    "slideshow": {
     "slide_type": ""
    },
    "tags": []
   },
   "outputs": [],
   "source": [
    "alpha = 1.0\n",
    "active_set_candidate = None"
   ]
  },
  {
   "cell_type": "code",
   "execution_count": 51,
   "id": "725cf4f9-3132-42b5-82c6-8e17f1de6cfc",
   "metadata": {},
   "outputs": [
    {
     "data": {
      "text/plain": [
       "array([4])"
      ]
     },
     "execution_count": 51,
     "metadata": {},
     "output_type": "execute_result"
    }
   ],
   "source": [
    "active_set"
   ]
  },
  {
   "cell_type": "code",
   "execution_count": 61,
   "id": "5e2aa06a-306e-41bb-a6f7-1180aeab162a",
   "metadata": {},
   "outputs": [],
   "source": [
    "# if j not in active_set:\n",
    "Aj_p = A[3] @ p\n",
    "if Aj_p < 0:\n",
    "    alpha_j = -(A[3] @ x0 - b[3]) / Aj_p\n",
    "    if alpha_j < alpha:\n",
    "        alpha = alpha_j\n",
    "        active_set_candidate = j"
   ]
  },
  {
   "cell_type": "code",
   "execution_count": 62,
   "id": "08fba654-8598-4dd0-a2d0-702fa0123942",
   "metadata": {},
   "outputs": [
    {
     "name": "stdout",
     "output_type": "stream",
     "text": [
      "None\n"
     ]
    }
   ],
   "source": [
    "print(active_set_candidate)"
   ]
  },
  {
   "cell_type": "code",
   "execution_count": 63,
   "id": "fa57014d-c358-4e44-b60f-c8fd9e0774a0",
   "metadata": {},
   "outputs": [],
   "source": [
    "x0 = x0 + alpha * p"
   ]
  },
  {
   "cell_type": "code",
   "execution_count": 74,
   "id": "adcc1f3f-85f6-4221-a93e-8b5718ec728a",
   "metadata": {},
   "outputs": [
    {
     "data": {
      "text/plain": [
       "array([2., 0.])"
      ]
     },
     "execution_count": 74,
     "metadata": {},
     "output_type": "execute_result"
    }
   ],
   "source": [
    "x0"
   ]
  },
  {
   "cell_type": "code",
   "execution_count": 7,
   "id": "e037e64e-91fd-4cbf-a531-0b2ab6c8cd23",
   "metadata": {
    "editable": true,
    "jupyter": {
     "source_hidden": true
    },
    "slideshow": {
     "slide_type": ""
    },
    "tags": []
   },
   "outputs": [],
   "source": [
    "def active_set_qp(G, c, A_eq=None, b_eq=None, A_ineq=None, b_ineq=None, x0=None, tol=1e-8, max_iter=100):\n",
    "    \"\"\"\n",
    "    Active-Set Method for solving convex QP:\n",
    "    min (1/2)x^T G x + c^T x\n",
    "    subject to A_eq x = b_eq (equality constraints)\n",
    "               A_ineq x <= b_ineq (inequality constraints)\n",
    "    Arguments:\n",
    "    G: Quadratic coefficient matrix (must be positive semidefinite).\n",
    "    c: Linear coefficient vector.\n",
    "    A_eq: Equality constraint matrix.\n",
    "    b_eq: Equality constraint RHS vector.\n",
    "    A_ineq: Inequality constraint matrix.\n",
    "    b_ineq: Inequality constraint RHS vector.\n",
    "    x0: Initial feasible solution (optional).\n",
    "    tol: Tolerance for convergence.\n",
    "    max_iter: Maximum number of iterations.\n",
    "    \"\"\"\n",
    "    # Initialize variables\n",
    "    n = G.shape[0]  # Number of variables\n",
    "    x = x0 if x0 is not None else np.zeros(n)\n",
    "    \n",
    "    # Working sets for constraints\n",
    "    if A_eq is not None:\n",
    "        W_eq = np.arange(A_eq.shape[0])  # Equality constraints are always active\n",
    "    else:\n",
    "        W_eq = np.array([])\n",
    "\n",
    "    W = W_eq.tolist()  # Start with equality constraints in the working set\n",
    "    \n",
    "    # Preprocessing for inequality constraints\n",
    "    if A_ineq is not None:\n",
    "        # Check feasibility of the initial point\n",
    "        if np.any(A_ineq @ x - b_ineq > tol):\n",
    "            raise ValueError(\"Initial point is not feasible for inequality constraints.\")\n",
    "    \n",
    "    for k in range(max_iter):\n",
    "        # Step 1: Solve the QP subproblem for the current working set\n",
    "        A_w = np.vstack([A_eq, A_ineq[W]]) if W else A_eq\n",
    "        b_w = np.hstack([b_eq, b_ineq[W]]) if W else b_eq\n",
    "        \n",
    "        KKT_matrix = np.block([\n",
    "            [G, A_w.T],\n",
    "            [A_w, np.zeros((len(W), len(W)))]\n",
    "        ])\n",
    "        KKT_rhs = np.hstack([-c, b_w])\n",
    "        \n",
    "        try:\n",
    "            solution = solve(KKT_matrix, KKT_rhs)\n",
    "        except np.linalg.LinAlgError:\n",
    "            raise ValueError(\"KKT system is singular.\")\n",
    "        \n",
    "        p = solution[:n]  # Step direction\n",
    "        lambda_w = solution[n:]  # Lagrange multipliers for active set\n",
    "        \n",
    "        # Check for optimality\n",
    "        if np.linalg.norm(p) < tol:\n",
    "            # Check KKT conditions\n",
    "            if all(lam >= -tol for lam in lambda_w):  # Feasibility and nonnegative multipliers\n",
    "                return x  # Optimal solution found\n",
    "            else:\n",
    "                # Remove the most negative multiplier from the active set\n",
    "                most_negative = np.argmin(lambda_w)\n",
    "                W.pop(most_negative)\n",
    "        else:\n",
    "            # Step 2: Compute step length α_k\n",
    "            alpha = 1.0  # Full step by default\n",
    "            blocking_constraints = []\n",
    "            if A_ineq is not None:\n",
    "                for i in range(A_ineq.shape[0]):\n",
    "                    if i not in W and A_ineq[i] @ p < -tol:  # Check blocking condition\n",
    "                        alpha_i = (b_ineq[i] - A_ineq[i] @ x) / (A_ineq[i] @ p)\n",
    "                        if alpha_i < alpha:\n",
    "                            alpha = alpha_i\n",
    "                            blocking_constraints = [i]\n",
    "            \n",
    "            # Step 3: Update x and working set\n",
    "            x = x + alpha * p\n",
    "            if alpha < 1.0:  # Add blocking constraint to working set\n",
    "                W.extend(blocking_constraints)\n",
    "    \n",
    "    raise ValueError(\"Maximum number of iterations reached without convergence.\")\n"
   ]
  },
  {
   "cell_type": "code",
   "execution_count": 6,
   "id": "9cc18729-bd77-4cd8-932f-ad341ea478a4",
   "metadata": {
    "jupyter": {
     "source_hidden": true
    }
   },
   "outputs": [],
   "source": [
    "G = np.array([[2, 0], [0, 2]])\n",
    "c = np.array([-2, -5])\n",
    "A_eq = np.array([[1, 1]])\n",
    "b_eq = np.array([1])\n",
    "A_ineq = np.array([[1, 0], [0, 1]])\n",
    "b_ineq = np.array([0, 0])\n",
    "x0 = np.array([0.5, 0.5])"
   ]
  },
  {
   "cell_type": "code",
   "execution_count": 19,
   "id": "3f811b2d-cd27-4943-9daf-9409b8207055",
   "metadata": {
    "collapsed": true,
    "jupyter": {
     "outputs_hidden": true,
     "source_hidden": true
    }
   },
   "outputs": [
    {
     "ename": "ValueError",
     "evalue": "Initial point is not feasible for inequality constraints.",
     "output_type": "error",
     "traceback": [
      "\u001b[0;31m---------------------------------------------------------------------------\u001b[0m",
      "\u001b[0;31mValueError\u001b[0m                                Traceback (most recent call last)",
      "Cell \u001b[0;32mIn[19], line 69\u001b[0m\n\u001b[1;32m     66\u001b[0m     \u001b[38;5;28;01mraise\u001b[39;00m \u001b[38;5;167;01mValueError\u001b[39;00m(\u001b[38;5;124m\"\u001b[39m\u001b[38;5;124mMaximum iterations reached without convergence.\u001b[39m\u001b[38;5;124m\"\u001b[39m)\n\u001b[1;32m     68\u001b[0m \u001b[38;5;66;03m# Test the debugged implementation\u001b[39;00m\n\u001b[0;32m---> 69\u001b[0m solution_debugged \u001b[38;5;241m=\u001b[39m \u001b[43mactive_set_qp_debug\u001b[49m\u001b[43m(\u001b[49m\u001b[43mG\u001b[49m\u001b[43m,\u001b[49m\u001b[43m \u001b[49m\u001b[43mc\u001b[49m\u001b[43m,\u001b[49m\u001b[43m \u001b[49m\u001b[43mA_eq\u001b[49m\u001b[38;5;241;43m=\u001b[39;49m\u001b[38;5;28;43;01mNone\u001b[39;49;00m\u001b[43m,\u001b[49m\u001b[43m \u001b[49m\u001b[43mb_eq\u001b[49m\u001b[38;5;241;43m=\u001b[39;49m\u001b[38;5;28;43;01mNone\u001b[39;49;00m\u001b[43m,\u001b[49m\u001b[43m \u001b[49m\u001b[43mA_ineq\u001b[49m\u001b[38;5;241;43m=\u001b[39;49m\u001b[43mA\u001b[49m\u001b[43m,\u001b[49m\u001b[43m \u001b[49m\u001b[43mb_ineq\u001b[49m\u001b[38;5;241;43m=\u001b[39;49m\u001b[43mb\u001b[49m\u001b[43m,\u001b[49m\u001b[43m \u001b[49m\u001b[43mx0\u001b[49m\u001b[38;5;241;43m=\u001b[39;49m\u001b[43mx0\u001b[49m\u001b[43m)\u001b[49m\n\u001b[1;32m     71\u001b[0m solution_debugged\n",
      "Cell \u001b[0;32mIn[19], line 18\u001b[0m, in \u001b[0;36mactive_set_qp_debug\u001b[0;34m(G, c, A_eq, b_eq, A_ineq, b_ineq, x0, tol, max_iter)\u001b[0m\n\u001b[1;32m     16\u001b[0m \u001b[38;5;28;01mif\u001b[39;00m A_ineq \u001b[38;5;129;01mis\u001b[39;00m \u001b[38;5;129;01mnot\u001b[39;00m \u001b[38;5;28;01mNone\u001b[39;00m:\n\u001b[1;32m     17\u001b[0m     \u001b[38;5;28;01mif\u001b[39;00m np\u001b[38;5;241m.\u001b[39many(A_ineq \u001b[38;5;241m@\u001b[39m x \u001b[38;5;241m-\u001b[39m b_ineq \u001b[38;5;241m>\u001b[39m tol):\n\u001b[0;32m---> 18\u001b[0m         \u001b[38;5;28;01mraise\u001b[39;00m \u001b[38;5;167;01mValueError\u001b[39;00m(\u001b[38;5;124m\"\u001b[39m\u001b[38;5;124mInitial point is not feasible for inequality constraints.\u001b[39m\u001b[38;5;124m\"\u001b[39m)\n\u001b[1;32m     20\u001b[0m \u001b[38;5;28;01mfor\u001b[39;00m k \u001b[38;5;129;01min\u001b[39;00m \u001b[38;5;28mrange\u001b[39m(max_iter):\n\u001b[1;32m     21\u001b[0m     \u001b[38;5;66;03m# Create working set matrix\u001b[39;00m\n\u001b[1;32m     22\u001b[0m     A_w \u001b[38;5;241m=\u001b[39m np\u001b[38;5;241m.\u001b[39mvstack([A_eq, A_ineq[W]]) \u001b[38;5;28;01mif\u001b[39;00m W \u001b[38;5;28;01melse\u001b[39;00m A_eq\n",
      "\u001b[0;31mValueError\u001b[0m: Initial point is not feasible for inequality constraints."
     ]
    }
   ],
   "source": [
    "def active_set_qp_debug(G, c, A_eq=None, b_eq=None, A_ineq=None, b_ineq=None, x0=None, tol=1e-8, max_iter=100):\n",
    "    \"\"\"\n",
    "    Debugged version of the Active-Set Method for solving convex QP:\n",
    "    \"\"\"\n",
    "    n = G.shape[0]  # Number of variables\n",
    "    x = x0 if x0 is not None else np.zeros(n)\n",
    "    \n",
    "    # Active sets for constraints\n",
    "    if A_eq is not None:\n",
    "        W_eq = np.arange(A_eq.shape[0])  # Equality constraints are always active\n",
    "    else:\n",
    "        W_eq = np.array([])\n",
    "\n",
    "    W = W_eq.tolist()  # Start with equality constraints in the working set\n",
    "    \n",
    "    if A_ineq is not None:\n",
    "        if np.any(A_ineq @ x - b_ineq > tol):\n",
    "            raise ValueError(\"Initial point is not feasible for inequality constraints.\")\n",
    "    \n",
    "    for k in range(max_iter):\n",
    "        # Create working set matrix\n",
    "        A_w = np.vstack([A_eq, A_ineq[W]]) if W else A_eq\n",
    "        b_w = np.hstack([b_eq, b_ineq[W]]) if W else b_eq\n",
    "        \n",
    "        if A_w is None:\n",
    "            A_w = np.zeros((0, n))\n",
    "            b_w = np.zeros(0)\n",
    "        \n",
    "        # Construct the KKT system\n",
    "        try:\n",
    "            KKT_matrix = np.block([\n",
    "                [G, A_w.T],\n",
    "                [A_w, np.zeros((A_w.shape[0], A_w.shape[0]))]\n",
    "            ])\n",
    "            KKT_rhs = np.hstack([-c, b_w])\n",
    "            solution = solve(KKT_matrix, KKT_rhs, assume_a='sym')\n",
    "        except np.linalg.LinAlgError:\n",
    "            raise ValueError(\"KKT system is singular or poorly conditioned.\")\n",
    "        \n",
    "        p = solution[:n]  # Step direction\n",
    "        lambda_w = solution[n:]  # Lagrange multipliers\n",
    "        \n",
    "        # Check for optimality\n",
    "        if np.linalg.norm(p) < tol:\n",
    "            if all(lam >= -tol for lam in lambda_w):\n",
    "                return x  # Optimal solution\n",
    "            else:\n",
    "                most_negative = np.argmin(lambda_w)\n",
    "                W.pop(most_negative)\n",
    "        else:\n",
    "            # Compute step length\n",
    "            alpha = 1.0\n",
    "            blocking_constraints = []\n",
    "            if A_ineq is not None:\n",
    "                for i in range(A_ineq.shape[0]):\n",
    "                    if i not in W and A_ineq[i] @ p < -tol:\n",
    "                        alpha_i = (b_ineq[i] - A_ineq[i] @ x) / (A_ineq[i] @ p)\n",
    "                        if alpha_i < alpha:\n",
    "                            alpha = alpha_i\n",
    "                            blocking_constraints = [i]\n",
    "            \n",
    "            x = x + alpha * p\n",
    "            if alpha < 1.0:\n",
    "                W.extend(blocking_constraints)\n",
    "    \n",
    "    raise ValueError(\"Maximum iterations reached without convergence.\")\n",
    "\n",
    "# Test the debugged implementation\n",
    "solution_debugged = active_set_qp_debug(G, c, A_eq=None, b_eq=None, A_ineq=A, b_ineq=b, x0=x0)\n",
    "\n",
    "solution_debugged\n"
   ]
  },
  {
   "cell_type": "code",
   "execution_count": 21,
   "id": "728ff8bc-5bb0-425d-9f76-d86e06991186",
   "metadata": {
    "editable": true,
    "slideshow": {
     "slide_type": ""
    },
    "tags": []
   },
   "outputs": [],
   "source": [
    "optimal_x = [1.400, 1.700]"
   ]
  },
  {
   "cell_type": "code",
   "execution_count": null,
   "id": "cae734ae-5123-431e-a359-69abfc2b64a7",
   "metadata": {},
   "outputs": [],
   "source": []
  }
 ],
 "metadata": {
  "kernelspec": {
   "display_name": "Python 3 (ipykernel)",
   "language": "python",
   "name": "python3"
  },
  "language_info": {
   "codemirror_mode": {
    "name": "ipython",
    "version": 3
   },
   "file_extension": ".py",
   "mimetype": "text/x-python",
   "name": "python",
   "nbconvert_exporter": "python",
   "pygments_lexer": "ipython3",
   "version": "3.11.7"
  }
 },
 "nbformat": 4,
 "nbformat_minor": 5
}
