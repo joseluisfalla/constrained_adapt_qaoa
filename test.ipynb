{
 "cells": [
  {
   "cell_type": "code",
   "execution_count": 2,
   "id": "cfd6a316-2509-415f-a4ba-ed33ac116600",
   "metadata": {},
   "outputs": [],
   "source": [
    "import numpy as np\n",
    "import networkx as nx\n",
    "from scipy.linalg import solve"
   ]
  },
  {
   "cell_type": "code",
   "execution_count": 6,
   "id": "5d91bb3c-e24a-4813-bb4d-352f82c14ec1",
   "metadata": {},
   "outputs": [],
   "source": [
    "W = np.array([\n",
    "        [0, 2, 1, 0, 0, 3],  \n",
    "        [2, 0, 4, 0, 1, 0],  \n",
    "        [1, 4, 0, 5, 0, 0],  \n",
    "        [0, 0, 5, 0, 3, 2],  \n",
    "        [0, 1, 0, 3, 0, 4],  \n",
    "        [3, 0, 0, 2, 4, 0] \n",
    "    ])\n",
    "    \n",
    "x_init = np.random.rand(6)\n",
    "\n",
    "ci = [[1, 1, 1, 1, 1, 1]]\n",
    "bi = [3]"
   ]
  },
  {
   "cell_type": "code",
   "execution_count": 7,
   "id": "cdc2a32b-9545-4bde-9100-b618da8c97bf",
   "metadata": {},
   "outputs": [
    {
     "name": "stdout",
     "output_type": "stream",
     "text": [
      "6\n",
      "1\n",
      "[[1 1 1 1 1 1]]\n",
      "[3]\n"
     ]
    }
   ],
   "source": [
    "n = len(x_init)\n",
    "print(n)\n",
    "ni = len(ci) if ci is not None else 0\n",
    "print(ni)\n",
    "ci = np.array(ci) if ni > 0 else np.zeros((0, n))\n",
    "print(ci)\n",
    "bi = np.array(bi) if ni > 0 else np.zeros(0)\n",
    "print(bi)"
   ]
  },
  {
   "cell_type": "code",
   "execution_count": 8,
   "id": "cb08f41f-dbd3-43e8-a85b-9f26db9ae951",
   "metadata": {},
   "outputs": [
    {
     "name": "stdout",
     "output_type": "stream",
     "text": [
      "[[ 0.   -0.5  -0.25  0.    0.   -0.75]\n",
      " [-0.5   0.   -1.    0.   -0.25  0.  ]\n",
      " [-0.25 -1.    0.   -1.25  0.    0.  ]\n",
      " [ 0.    0.   -1.25  0.   -0.75 -0.5 ]\n",
      " [ 0.   -0.25  0.   -0.75  0.   -1.  ]\n",
      " [-0.75  0.    0.   -0.5  -1.    0.  ]]\n",
      "[0. 0. 0. 0. 0. 0.]\n"
     ]
    }
   ],
   "source": [
    "G = -W / 4\n",
    "print(G)\n",
    "d = np.zeros(n)\n",
    "print(d)"
   ]
  },
  {
   "cell_type": "code",
   "execution_count": 9,
   "id": "606e6f9f-c9f1-484d-a1e5-2dbe40b6bf28",
   "metadata": {},
   "outputs": [
    {
     "name": "stdout",
     "output_type": "stream",
     "text": [
      "[False]\n"
     ]
    }
   ],
   "source": [
    "W_active = np.zeros(ni, dtype=bool)\n",
    "print(W_active)"
   ]
  },
  {
   "cell_type": "code",
   "execution_count": 10,
   "id": "1bd08acf-d2ef-4304-bc4e-100bc7275b72",
   "metadata": {},
   "outputs": [
    {
     "name": "stdout",
     "output_type": "stream",
     "text": [
      "[]\n",
      "[]\n"
     ]
    }
   ],
   "source": [
    "A = ci[W_active, :] if ni > 0 else np.zeros((0, n))\n",
    "print(A)\n",
    "b = bi[W_active] if ni > 0 else np.zeros(0)\n",
    "print(b)"
   ]
  },
  {
   "cell_type": "code",
   "execution_count": 11,
   "id": "8f7364db-a751-4c76-b595-b6df235b115a",
   "metadata": {},
   "outputs": [
    {
     "name": "stdout",
     "output_type": "stream",
     "text": [
      "[[ 0.   -0.5  -0.25  0.    0.   -0.75]\n",
      " [-0.5   0.   -1.    0.   -0.25  0.  ]\n",
      " [-0.25 -1.    0.   -1.25  0.    0.  ]\n",
      " [ 0.    0.   -1.25  0.   -0.75 -0.5 ]\n",
      " [ 0.   -0.25  0.   -0.75  0.   -1.  ]\n",
      " [-0.75  0.    0.   -0.5  -1.    0.  ]]\n"
     ]
    }
   ],
   "source": [
    "K = np.block([\n",
    "            [G, A.T],\n",
    "            [A, np.zeros((len(A), len(A)))]\n",
    "        ])\n",
    "print(K)"
   ]
  },
  {
   "cell_type": "code",
   "execution_count": 12,
   "id": "4e50550f-259e-4f85-9944-1ccd20c5d134",
   "metadata": {},
   "outputs": [
    {
     "name": "stdout",
     "output_type": "stream",
     "text": [
      "[-0. -0. -0. -0. -0. -0.]\n"
     ]
    }
   ],
   "source": [
    "rhs = np.concatenate([-d, b])\n",
    "print(rhs)"
   ]
  },
  {
   "cell_type": "code",
   "execution_count": 15,
   "id": "89f601b1-1996-4cb4-a18f-38270edc95a3",
   "metadata": {},
   "outputs": [
    {
     "name": "stdout",
     "output_type": "stream",
     "text": [
      "[-0. -0. -0.  0.  0. -0.]\n"
     ]
    }
   ],
   "source": [
    "solution = np.linalg.solve(K, rhs)\n",
    "print(solution)"
   ]
  },
  {
   "cell_type": "code",
   "execution_count": 16,
   "id": "2f0ebd40-d91b-443a-8ad5-864ffebc7269",
   "metadata": {},
   "outputs": [
    {
     "name": "stdout",
     "output_type": "stream",
     "text": [
      "[-0. -0. -0.  0.  0. -0.]\n",
      "[]\n"
     ]
    }
   ],
   "source": [
    "p = solution[:n]\n",
    "print(p)\n",
    "lambdas = solution[n:]\n",
    "print(lambdas)"
   ]
  },
  {
   "cell_type": "code",
   "execution_count": 17,
   "id": "844976c8-a03e-4c9e-9e33-ada4cc1b599b",
   "metadata": {},
   "outputs": [],
   "source": [
    "tol = 1e-8"
   ]
  },
  {
   "cell_type": "code",
   "execution_count": 18,
   "id": "4df1a7bc-3526-41e2-803f-12a3d2c10e49",
   "metadata": {},
   "outputs": [
    {
     "name": "stdout",
     "output_type": "stream",
     "text": [
      "True\n"
     ]
    }
   ],
   "source": [
    "print(np.all(np.abs(p) < tol))"
   ]
  },
  {
   "cell_type": "code",
   "execution_count": 19,
   "id": "54dc0381-e782-423e-86a2-c3175b68e518",
   "metadata": {},
   "outputs": [
    {
     "name": "stdout",
     "output_type": "stream",
     "text": [
      "True\n"
     ]
    }
   ],
   "source": [
    "print(np.all(lambdas >= -tol))"
   ]
  },
  {
   "cell_type": "code",
   "execution_count": 22,
   "id": "9bbe4c3b-85b6-4b6c-91d5-242de3185be8",
   "metadata": {},
   "outputs": [
    {
     "name": "stdout",
     "output_type": "stream",
     "text": [
      "Optimal partition: [1. 0. 1. 0.]\n",
      "MaxCut value: 1.5312500000000002\n",
      "Optimization success: True\n",
      "Message: Optimization terminated successfully\n"
     ]
    }
   ],
   "source": [
    "import numpy as np\n",
    "from scipy.optimize import minimize\n",
    "\n",
    "def maxcut_objective(x, W):\n",
    "    \"\"\"\n",
    "    Objective function for MaxCut: maximize sum of edge weights across the cut.\n",
    "    In optimization, we minimize the negative of the objective.\n",
    "    \n",
    "    Args:\n",
    "        x (ndarray): Binary vector representing the partition (continuous relaxation).\n",
    "        W (ndarray): Weight matrix of the graph.\n",
    "    Returns:\n",
    "        float: Negative of the MaxCut objective value.\n",
    "    \"\"\"\n",
    "    return -0.25 * x.T @ W @ x\n",
    "\n",
    "def constraint_satisfaction(x, constraint_matrix, constraint_vector):\n",
    "    \"\"\"\n",
    "    Check if constraints are satisfied for given x.\n",
    "    \n",
    "    Args:\n",
    "        x (ndarray): Current solution.\n",
    "        constraint_matrix (ndarray): Constraint matrix.\n",
    "        constraint_vector (ndarray): Constraint RHS vector.\n",
    "    Returns:\n",
    "        ndarray: Constraint satisfaction values.\n",
    "    \"\"\"\n",
    "    return constraint_matrix @ x - constraint_vector\n",
    "\n",
    "def solve_constrained_maxcut(W, constraint_matrix, constraint_vector):\n",
    "    \"\"\"\n",
    "    Solve the constrained MaxCut problem using the active set method.\n",
    "    \n",
    "    Args:\n",
    "        W (ndarray): Weight matrix of the graph.\n",
    "        constraint_matrix (ndarray): Matrix for linear constraints.\n",
    "        constraint_vector (ndarray): RHS vector for linear constraints.\n",
    "    \n",
    "    Returns:\n",
    "        dict: Solution and optimization details.\n",
    "    \"\"\"\n",
    "    n = W.shape[0]\n",
    "    \n",
    "    # Initial guess (continuous relaxation to allow optimization)\n",
    "    x0 = np.random.rand(n)\n",
    "    \n",
    "    # Define constraints for the optimizer\n",
    "    constraints = [{'type': 'eq', 'fun': lambda x, A=constraint_matrix, b=constraint_vector: A @ x - b}]\n",
    "    \n",
    "    # Define bounds (binary decision variables relaxed to [0, 1])\n",
    "    bounds = [(0, 1) for _ in range(n)]\n",
    "    \n",
    "    # Solve the optimization problem\n",
    "    result = minimize(\n",
    "        fun=maxcut_objective, \n",
    "        x0=x0, \n",
    "        args=(W,), \n",
    "        method='SLSQP', \n",
    "        bounds=bounds, \n",
    "        constraints=constraints\n",
    "    )\n",
    "    \n",
    "    # Return the result and active set details\n",
    "    return {\n",
    "        'x_opt': np.round(result.x),  # Convert back to binary for MaxCut\n",
    "        'fun_value': -result.fun,\n",
    "        'success': result.success,\n",
    "        'message': result.message,\n",
    "        'active_set': constraints\n",
    "    }\n",
    "\n",
    "# Example usage\n",
    "if __name__ == \"__main__\":\n",
    "    # Example graph with 4 nodes and weighted adjacency matrix\n",
    "    W = np.array([\n",
    "        [0, 2, 3, 0],\n",
    "        [2, 0, 0, 1],\n",
    "        [3, 0, 0, 4],\n",
    "        [0, 1, 4, 0]\n",
    "    ])\n",
    "    \n",
    "    # Example constraints: Ax <= b\n",
    "    # For simplicity, suppose we have constraints x1 + x2 <= 1 and x3 + x4 <= 1\n",
    "    constraint_matrix = np.array([\n",
    "        [1, 1, 0, 0],\n",
    "        [0, 0, 1, 1]\n",
    "    ])\n",
    "    constraint_vector = np.array([1, 1])\n",
    "    \n",
    "    # Solve the problem\n",
    "    solution = solve_constrained_maxcut(W, constraint_matrix, constraint_vector)\n",
    "    print(\"Optimal partition:\", solution['x_opt'])\n",
    "    print(\"MaxCut value:\", solution['fun_value'])\n",
    "    print(\"Optimization success:\", solution['success'])\n",
    "    print(\"Message:\", solution['message'])\n"
   ]
  },
  {
   "cell_type": "code",
   "execution_count": 23,
   "id": "446cac5b-3020-4e27-b721-6ba7423d264e",
   "metadata": {},
   "outputs": [
    {
     "name": "stdout",
     "output_type": "stream",
     "text": [
      "Optimal partition: [1. 0. 1. 0.]\n",
      "MaxCut value: 1.5312499999999998\n",
      "Optimization success: True\n",
      "Message: Optimization terminated successfully\n"
     ]
    },
    {
     "data": {
      "image/png": "[encoded data removed]",
      "text/plain": [
       "<Figure size 800x600 with 1 Axes>"
      ]
     },
     "metadata": {},
     "output_type": "display_data"
    }
   ],
   "source": [
    "import numpy as np\n",
    "from scipy.optimize import minimize\n",
    "import matplotlib.pyplot as plt\n",
    "\n",
    "def maxcut_objective(x, W):\n",
    "    \"\"\"\n",
    "    Objective function for MaxCut: maximize sum of edge weights across the cut.\n",
    "    In optimization, we minimize the negative of the objective.\n",
    "\n",
    "    Args:\n",
    "        x (ndarray): Binary vector representing the partition (continuous relaxation).\n",
    "        W (ndarray): Weight matrix of the graph.\n",
    "    Returns:\n",
    "        float: Negative of the MaxCut objective value.\n",
    "    \"\"\"\n",
    "    return -0.25 * x.T @ W @ x\n",
    "\n",
    "def solve_constrained_maxcut(W, constraint_matrix, constraint_vector):\n",
    "    \"\"\"\n",
    "    Solve the constrained MaxCut problem using the active set method and track objective changes.\n",
    "\n",
    "    Args:\n",
    "        W (ndarray): Weight matrix of the graph.\n",
    "        constraint_matrix (ndarray): Matrix for linear constraints.\n",
    "        constraint_vector (ndarray): RHS vector for linear constraints.\n",
    "\n",
    "    Returns:\n",
    "        dict: Solution, optimization details, and objective function history.\n",
    "    \"\"\"\n",
    "    n = W.shape[0]\n",
    "\n",
    "    # Initial guess (continuous relaxation to allow optimization)\n",
    "    x0 = np.random.rand(n)\n",
    "\n",
    "    # Define constraints for the optimizer\n",
    "    constraints = [{'type': 'eq', 'fun': lambda x, A=constraint_matrix, b=constraint_vector: A @ x - b}]\n",
    "\n",
    "    # Define bounds (binary decision variables relaxed to [0, 1])\n",
    "    bounds = [(0, 1) for _ in range(n)]\n",
    "\n",
    "    # List to store objective values at each iteration\n",
    "    objective_history = []\n",
    "\n",
    "    # Callback function to track optimization progress\n",
    "    def callback(x):\n",
    "        objective_history.append(-maxcut_objective(x, W))  # Record positive MaxCut value\n",
    "\n",
    "    # Solve the optimization problem\n",
    "    result = minimize(\n",
    "        fun=maxcut_objective, \n",
    "        x0=x0, \n",
    "        args=(W,), \n",
    "        method='SLSQP', \n",
    "        bounds=bounds, \n",
    "        constraints=constraints,\n",
    "        callback=callback\n",
    "    )\n",
    "\n",
    "    # Return the result and optimization details\n",
    "    return {\n",
    "        'x_opt': np.round(result.x),  # Convert back to binary for MaxCut\n",
    "        'fun_value': -result.fun,\n",
    "        'success': result.success,\n",
    "        'message': result.message,\n",
    "        'active_set': constraints,\n",
    "        'objective_history': objective_history\n",
    "    }\n",
    "\n",
    "def plot_objective_history(history):\n",
    "    \"\"\"\n",
    "    Plot the objective function values over optimization iterations.\n",
    "\n",
    "    Args:\n",
    "        history (list): List of objective function values at each iteration.\n",
    "    \"\"\"\n",
    "    plt.figure(figsize=(8, 6))\n",
    "    plt.plot(history, marker='o')\n",
    "    plt.title('Objective Function vs. Optimization Iterations')\n",
    "    plt.xlabel('Iteration')\n",
    "    plt.ylabel('Objective Function Value')\n",
    "    plt.grid()\n",
    "    plt.show()\n",
    "\n",
    "# Example usage\n",
    "if __name__ == \"__main__\":\n",
    "    # Example graph with 4 nodes and weighted adjacency matrix\n",
    "    W = np.array([\n",
    "        [0, 2, 3, 0],\n",
    "        [2, 0, 0, 1],\n",
    "        [3, 0, 0, 4],\n",
    "        [0, 1, 4, 0]\n",
    "    ])\n",
    "\n",
    "    # Example constraints: Ax <= b\n",
    "    # For simplicity, suppose we have constraints x1 + x2 <= 1 and x3 + x4 <= 1\n",
    "    constraint_matrix = np.array([\n",
    "        [1, 1, 0, 0],\n",
    "        [0, 0, 1, 1]\n",
    "    ])\n",
    "    constraint_vector = np.array([1, 1])\n",
    "\n",
    "    # Solve the problem\n",
    "    solution = solve_constrained_maxcut(W, constraint_matrix, constraint_vector)\n",
    "\n",
    "    print(\"Optimal partition:\", solution['x_opt'])\n",
    "    print(\"MaxCut value:\", solution['fun_value'])\n",
    "    print(\"Optimization success:\", solution['success'])\n",
    "    print(\"Message:\", solution['message'])\n",
    "\n",
    "    # Plot the objective function history\n",
    "    plot_objective_history(solution['objective_history'])"
   ]
  },
  {
   "cell_type": "code",
   "execution_count": 24,
   "id": "c125e7e7-502d-42b0-a1a0-1559de9bfb25",
   "metadata": {},
   "outputs": [
    {
     "name": "stdout",
     "output_type": "stream",
     "text": [
      "Optimal partition: [1. 1. 0. 0. 1. 1. 0. 0. 1. 0. 0. 0. 1. 1. 1. 0.]\n",
      "MaxCut value: 88.0000000014818\n",
      "Optimization success: True\n",
      "Message: Optimization terminated successfully\n"
     ]
    },
    {
     "data": {
      "image/png": "[encoded data removed]",
      "text/plain": [
       "<Figure size 800x600 with 1 Axes>"
      ]
     },
     "metadata": {},
     "output_type": "display_data"
    }
   ],
   "source": [
    "import numpy as np\n",
    "from scipy.optimize import minimize\n",
    "import matplotlib.pyplot as plt\n",
    "\n",
    "def maxcut_objective(x, W):\n",
    "    \"\"\"\n",
    "    Objective function for MaxCut: maximize sum of edge weights across the cut.\n",
    "    In optimization, we minimize the negative of the objective.\n",
    "\n",
    "    Args:\n",
    "        x (ndarray): Binary vector representing the partition (continuous relaxation).\n",
    "        W (ndarray): Weight matrix of the graph.\n",
    "    Returns:\n",
    "        float: Negative of the MaxCut objective value.\n",
    "    \"\"\"\n",
    "    return -0.25 * x.T @ W @ x\n",
    "\n",
    "def solve_constrained_maxcut(W, constraint_matrix, constraint_vector):\n",
    "    \"\"\"\n",
    "    Solve the constrained MaxCut problem using the active set method and track objective changes.\n",
    "\n",
    "    Args:\n",
    "        W (ndarray): Weight matrix of the graph.\n",
    "        constraint_matrix (ndarray): Matrix for linear constraints.\n",
    "        constraint_vector (ndarray): RHS vector for linear constraints.\n",
    "\n",
    "    Returns:\n",
    "        dict: Solution, optimization details, and objective function history.\n",
    "    \"\"\"\n",
    "    n = W.shape[0]\n",
    "\n",
    "    # Initial guess (continuous relaxation to allow optimization)\n",
    "    x0 = np.random.rand(n)\n",
    "\n",
    "    # Define constraints for the optimizer\n",
    "    constraints = [{'type': 'eq', 'fun': lambda x, A=constraint_matrix, b=constraint_vector: A @ x - b}]\n",
    "\n",
    "    # Define bounds (binary decision variables relaxed to [0, 1])\n",
    "    bounds = [(0, 1) for _ in range(n)]\n",
    "\n",
    "    # List to store objective values at each iteration\n",
    "    objective_history = []\n",
    "\n",
    "    # Callback function to track optimization progress\n",
    "    def callback(x):\n",
    "        objective_history.append(-maxcut_objective(x, W))  # Record positive MaxCut value\n",
    "\n",
    "    # Solve the optimization problem\n",
    "    result = minimize(\n",
    "        fun=maxcut_objective, \n",
    "        x0=x0, \n",
    "        args=(W,), \n",
    "        method='SLSQP', \n",
    "        bounds=bounds, \n",
    "        constraints=constraints,\n",
    "        callback=callback\n",
    "    )\n",
    "\n",
    "    # Return the result and optimization details\n",
    "    return {\n",
    "        'x_opt': np.round(result.x),  # Convert back to binary for MaxCut\n",
    "        'fun_value': -result.fun,\n",
    "        'success': result.success,\n",
    "        'message': result.message,\n",
    "        'active_set': constraints,\n",
    "        'objective_history': objective_history\n",
    "    }\n",
    "\n",
    "def plot_objective_history(history):\n",
    "    \"\"\"\n",
    "    Plot the objective function values over optimization iterations.\n",
    "\n",
    "    Args:\n",
    "        history (list): List of objective function values at each iteration.\n",
    "    \"\"\"\n",
    "    plt.figure(figsize=(8, 6))\n",
    "    plt.plot(history, marker='o')\n",
    "    plt.title('Objective Function vs. Optimization Iterations')\n",
    "    plt.xlabel('Iteration')\n",
    "    plt.ylabel('Objective Function Value')\n",
    "    plt.grid()\n",
    "    plt.show()\n",
    "\n",
    "# Example usage\n",
    "if __name__ == \"__main__\":\n",
    "    # Example graph with 16 nodes and weighted adjacency matrix\n",
    "    np.random.seed(42)  # For reproducibility\n",
    "    num_nodes = 16\n",
    "    W = np.random.randint(0, 10, size=(num_nodes, num_nodes))\n",
    "    W = (W + W.T) / 2  # Ensure the matrix is symmetric\n",
    "\n",
    "    # Example constraints: sum of first half of nodes <= 4, second half <= 4\n",
    "    constraint_matrix = np.zeros((2, num_nodes))\n",
    "    constraint_matrix[0, :num_nodes // 2] = 1\n",
    "    constraint_matrix[1, num_nodes // 2:] = 1\n",
    "    constraint_vector = np.array([4, 4])\n",
    "\n",
    "    # Solve the problem\n",
    "    solution = solve_constrained_maxcut(W, constraint_matrix, constraint_vector)\n",
    "\n",
    "    print(\"Optimal partition:\", solution['x_opt'])\n",
    "    print(\"MaxCut value:\", solution['fun_value'])\n",
    "    print(\"Optimization success:\", solution['success'])\n",
    "    print(\"Message:\", solution['message'])\n",
    "\n",
    "    # Plot the objective function history\n",
    "    plot_objective_history(solution['objective_history'])\n"
   ]
  },
  {
   "cell_type": "code",
   "execution_count": null,
   "id": "e14917a7-ffde-4244-807e-0f8d52ed65fe",
   "metadata": {},
   "outputs": [],
   "source": []
  }
 ],
 "metadata": {
  "kernelspec": {
   "display_name": "Python 3 (ipykernel)",
   "language": "python",
   "name": "python3"
  },
  "language_info": {
   "codemirror_mode": {
    "name": "ipython",
    "version": 3
   },
   "file_extension": ".py",
   "mimetype": "text/x-python",
   "name": "python",
   "nbconvert_exporter": "python",
   "pygments_lexer": "ipython3",
   "version": "3.9.19"
  }
 },
 "nbformat": 4,
 "nbformat_minor": 5
}
